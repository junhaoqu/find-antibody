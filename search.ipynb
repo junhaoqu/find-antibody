{
 "cells": [
  {
   "cell_type": "code",
   "execution_count": 5,
   "metadata": {},
   "outputs": [
    {
     "name": "stdout",
     "output_type": "stream",
     "text": [
      "Processing complete. Check the output.txt file.\n"
     ]
    }
   ],
   "source": [
    "import os\n",
    "import fitz  # PyMuPDF\n",
    "\n",
    "\n",
    "def find_keywords_in_pdf(pdf_path, keywords):\n",
    "    \"\"\"\n",
    "    Search for the keywords in the specified PDF and return a dictionary containing paragraphs for each keyword.\n",
    "    \"\"\"\n",
    "    paragraphs_by_keyword = {keyword: [] for keyword in keywords}\n",
    "    with fitz.open(pdf_path) as doc:\n",
    "        for page in doc:\n",
    "            text = page.get_text(\"text\")\n",
    "            for paragraph in text.split('\\n\\n'):\n",
    "                for keyword in keywords:\n",
    "                    if keyword.lower() in paragraph.lower():\n",
    "                        paragraphs_by_keyword[keyword].append(paragraph)\n",
    "                        break  # Assumes a paragraph will be captured only once for the first keyword found\n",
    "    return paragraphs_by_keyword\n",
    "\n",
    "def process_pdfs_in_directory(directory, keywords, output_file):\n",
    "    \"\"\"\n",
    "    Process all PDFs in the given directory to find the keywords and output sorted paragraphs to a text file.\n",
    "    \"\"\"\n",
    "    pdf_paragraphs = {}\n",
    "    for filename in sorted(os.listdir(directory)):\n",
    "        if filename.lower().endswith('.pdf'):\n",
    "            pdf_path = os.path.join(directory, filename)\n",
    "            paragraphs_by_keyword = find_keywords_in_pdf(pdf_path, keywords)\n",
    "            pdf_paragraphs[filename] = paragraphs_by_keyword\n",
    "\n",
    "    with open(output_file, 'w', encoding='utf-8') as out_file:\n",
    "        for pdf_name, paragraphs_by_keyword in pdf_paragraphs.items():\n",
    "            for keyword, paragraphs in paragraphs_by_keyword.items():\n",
    "                if paragraphs:  # Check if there are any paragraphs for the keyword\n",
    "                    out_file.write(f\"PDF File: {pdf_name}\\n\")\n",
    "                    out_file.write(f\"Keyword: {keyword}\\n\")\n",
    "                    for paragraph in paragraphs:\n",
    "                        out_file.write(f\"{paragraph}\\n\\n\")\n",
    "                    out_file.write(\"\\n\")  # Extra newline for separation between keywords\n",
    "\n",
    "if __name__ == \"__main__\":\n",
    "    directory = \"PDF\"  # Change this to the path of your PDF directory\n",
    "    keywords = [\"lgr5\", \"anti-lgr5\", \"lgr5 primary antibody\"]  # Replace with your list of keywords\n",
    "    output_file = \"output.txt\"  # The output file path\n",
    "    \n",
    "    process_pdfs_in_directory(directory, keywords, output_file)\n",
    "    print(\"Processing complete. Check the output.txt file.\")"
   ]
  }
 ],
 "metadata": {
  "kernelspec": {
   "display_name": "Python 3",
   "language": "python",
   "name": "python3"
  },
  "language_info": {
   "codemirror_mode": {
    "name": "ipython",
    "version": 3
   },
   "file_extension": ".py",
   "mimetype": "text/x-python",
   "name": "python",
   "nbconvert_exporter": "python",
   "pygments_lexer": "ipython3",
   "version": "3.9.18"
  }
 },
 "nbformat": 4,
 "nbformat_minor": 2
}
